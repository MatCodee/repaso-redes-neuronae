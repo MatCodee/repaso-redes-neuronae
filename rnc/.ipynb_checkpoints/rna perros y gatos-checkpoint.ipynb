{
 "cells": [
  {
   "cell_type": "code",
   "execution_count": 20,
   "id": "7a0ab223",
   "metadata": {},
   "outputs": [],
   "source": [
    "import numpy as np\n",
    "from tensorflow.keras.models import Sequential\n",
    "from tensorflow.keras.layers import MaxPooling2D,Flatten,Dense,Conv2D\n",
    "from tensorflow.keras.preprocessing.image import ImageDataGenerator\n",
    "import tensorflow as tf"
   ]
  },
  {
   "cell_type": "code",
   "execution_count": 11,
   "id": "4c178fd6",
   "metadata": {},
   "outputs": [],
   "source": [
    "path_data = '../../DeepLearning A a Z/deeplearning-az/datasets/Part 2 - Convolutional Neural Networks (CNN)/dataset/'"
   ]
  },
  {
   "cell_type": "code",
   "execution_count": 27,
   "id": "c019a6e5",
   "metadata": {},
   "outputs": [],
   "source": [
    "# inicializacion de la red neuronal\n",
    "rnc = Sequential()"
   ]
  },
  {
   "cell_type": "code",
   "execution_count": 28,
   "id": "7682cc25",
   "metadata": {},
   "outputs": [],
   "source": [
    "# convolucion:\n",
    "rnc.add(Conv2D(filters=32,kernel_size=(3,3),input_shape=(64,64,3),activation='relu'))"
   ]
  },
  {
   "cell_type": "code",
   "execution_count": 14,
   "id": "5674648d",
   "metadata": {},
   "outputs": [],
   "source": [
    "# Aplicando el max-poling\n",
    "rnc.add(MaxPooling2D(pool_size=(2,2)))"
   ]
  },
  {
   "cell_type": "code",
   "execution_count": 29,
   "id": "98b216fb",
   "metadata": {},
   "outputs": [],
   "source": [
    "# Segunda capa de convolucion:\n",
    "rnc.add(Conv2D(32,3,3,activation='relu'))\n",
    "rnc.add(MaxPooling2D(pool_size=(2,2)))"
   ]
  },
  {
   "cell_type": "code",
   "execution_count": 30,
   "id": "41c7d199",
   "metadata": {},
   "outputs": [],
   "source": [
    "# Flatter\n",
    "rnc.add(Flatten())"
   ]
  },
  {
   "cell_type": "code",
   "execution_count": 31,
   "id": "701ecaa7",
   "metadata": {},
   "outputs": [],
   "source": [
    "# Full conexion\n",
    "rnc.add(Dense(units=128,activation='relu'))\n",
    "rnc.add(Dense(units=1,activation='sigmoid'))"
   ]
  },
  {
   "cell_type": "code",
   "execution_count": 32,
   "id": "a741ec21",
   "metadata": {},
   "outputs": [],
   "source": [
    "rnc.compile(optimizer='adam',loss='binary_crossentropy',metrics=['accuracy'])"
   ]
  },
  {
   "cell_type": "code",
   "execution_count": 33,
   "id": "13c4a520",
   "metadata": {},
   "outputs": [
    {
     "name": "stdout",
     "output_type": "stream",
     "text": [
      "Found 8000 images belonging to 2 classes.\n",
      "Found 2000 images belonging to 2 classes.\n"
     ]
    }
   ],
   "source": [
    "# Ajustar las imagenes al modelo\n",
    "train_datagen = ImageDataGenerator(rescale = 1./255,\n",
    "                                   shear_range = 0.2,\n",
    "                                   zoom_range = 0.2,\n",
    "                                   horizontal_flip = True)\n",
    "\n",
    "test_datagen = ImageDataGenerator(rescale = 1./255)\n",
    "\n",
    "training_set = train_datagen.flow_from_directory(path_data + 'training_set',\n",
    "                                                 target_size = (64, 64),\n",
    "                                                 batch_size = 32,\n",
    "                                                 class_mode = 'binary')\n",
    "\n",
    "test_set = test_datagen.flow_from_directory(path_data + 'test_set',\n",
    "                                            target_size = (64, 64),\n",
    "                                            batch_size = 32,\n",
    "                                            class_mode = 'binary')\n"
   ]
  },
  {
   "cell_type": "code",
   "execution_count": null,
   "id": "5779ff3d",
   "metadata": {},
   "outputs": [
    {
     "name": "stdout",
     "output_type": "stream",
     "text": [
      "Epoch 1/25\n",
      " 618/1000 [=================>............] - ETA: 1:13 - loss: 0.6381 - accuracy: 0.6309"
     ]
    }
   ],
   "source": [
    "rnc.fit_generator(training_set,\n",
    "                         steps_per_epoch = 1000,\n",
    "                         epochs = 25,\n",
    "                         validation_data = test_set,\n",
    "                         validation_steps = 2000)"
   ]
  },
  {
   "cell_type": "code",
   "execution_count": null,
   "id": "3482294d",
   "metadata": {},
   "outputs": [],
   "source": []
  }
 ],
 "metadata": {
  "kernelspec": {
   "display_name": "Python 3 (ipykernel)",
   "language": "python",
   "name": "python3"
  },
  "language_info": {
   "codemirror_mode": {
    "name": "ipython",
    "version": 3
   },
   "file_extension": ".py",
   "mimetype": "text/x-python",
   "name": "python",
   "nbconvert_exporter": "python",
   "pygments_lexer": "ipython3",
   "version": "3.7.11"
  }
 },
 "nbformat": 4,
 "nbformat_minor": 5
}
